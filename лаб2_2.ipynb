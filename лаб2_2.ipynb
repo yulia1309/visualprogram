{
  "nbformat": 4,
  "nbformat_minor": 0,
  "metadata": {
    "colab": {
      "provenance": [],
      "authorship_tag": "ABX9TyO52JB4wBjHD7AL8Mt9L2Ay",
      "include_colab_link": true
    },
    "kernelspec": {
      "name": "python3",
      "display_name": "Python 3"
    },
    "language_info": {
      "name": "python"
    }
  },
  "cells": [
    {
      "cell_type": "markdown",
      "metadata": {
        "id": "view-in-github",
        "colab_type": "text"
      },
      "source": [
        "<a href=\"https://colab.research.google.com/github/yulia1309/visualprogram/blob/main/%D0%BB%D0%B0%D0%B12_2.ipynb\" target=\"_parent\"><img src=\"https://colab.research.google.com/assets/colab-badge.svg\" alt=\"Open In Colab\"/></a>"
      ]
    },
    {
      "cell_type": "code",
      "execution_count": null,
      "metadata": {
        "colab": {
          "base_uri": "https://localhost:8080/",
          "height": 497
        },
        "id": "A6uJM6R0_3Dp",
        "outputId": "01ab16c3-3c7d-47a4-c242-24ab8681b280"
      },
      "outputs": [
        {
          "output_type": "display_data",
          "data": {
            "text/plain": [
              "<IPython.core.display.Javascript object>"
            ],
            "application/javascript": [
              "\n",
              "        async function startVideo() {\n",
              "            const video = document.createElement('video');\n",
              "            video.width = 640;\n",
              "            video.height = 480;\n",
              "            video.autoplay = true;\n",
              "            video.style.display = 'block';\n",
              "            document.body.appendChild(video);\n",
              "            const stream = await navigator.mediaDevices.getUserMedia({video: true});\n",
              "            video.srcObject = stream;\n",
              "            return video;\n",
              "        }\n",
              "        startVideo().then(video => {\n",
              "            window.video = video;\n",
              "        });\n",
              "    "
            ]
          },
          "metadata": {}
        }
      ],
      "source": [
        "import cv2\n",
        "import numpy as np\n",
        "from google.colab.patches import cv2_imshow\n",
        "from IPython.display import display, Javascript\n",
        "\n",
        "# Функция для запуска JavaScript, который захватывает видео с камеры\n",
        "def start_video_capture():\n",
        "    display(Javascript('''\n",
        "        async function startVideo() {\n",
        "            const video = document.createElement('video');\n",
        "            video.width = 640;\n",
        "            video.height = 480;\n",
        "            video.autoplay = true;\n",
        "            video.style.display = 'block';\n",
        "            document.body.appendChild(video);\n",
        "            const stream = await navigator.mediaDevices.getUserMedia({video: true});\n",
        "            video.srcObject = stream;\n",
        "            return video;\n",
        "        }\n",
        "        startVideo().then(video => {\n",
        "            window.video = video;\n",
        "        });\n",
        "    '''))\n",
        "\n",
        "# Запускаем видеозахват\n",
        "start_video_capture()\n",
        "\n",
        "# Открываем видеопоток с камеры\n",
        "cap = cv2.VideoCapture(0)\n",
        "\n",
        "# Получаем параметры видео\n",
        "fps = 30  # Устанавливаем фиксированное значение FPS\n",
        "width = 640\n",
        "height = 480\n",
        "\n",
        "# Создаем VideoWriter для сохранения результата (опционально)\n",
        "out = cv2.VideoWriter('output_with_red_ball.mp4', cv2.VideoWriter_fourcc(*'mp4v'), fps, (width, height))\n",
        "\n",
        "frame_count = 0  # Счетчик кадров\n",
        "\n",
        "while cap.isOpened():\n",
        "    ret, frame = cap.read()\n",
        "    if not ret:\n",
        "        break\n",
        "\n",
        "    # Обрабатываем каждый третий кадр\n",
        "    if frame_count % 3 == 0:\n",
        "        # Преобразуем кадр в цветовое пространство HSV\n",
        "        hsv = cv2.cvtColor(frame, cv2.COLOR_BGR2HSV)\n",
        "\n",
        "        # Определяем диапазоны красного цвета в HSV\n",
        "        lower_red1 = np.array([0, 100, 100])    # Низкий диапазон красного\n",
        "        upper_red1 = np.array([10, 255, 255])   # Высокий диапазон красного\n",
        "        lower_red2 = np.array([170, 100, 100])  # Низкий диапазон красного (второй диапазон)\n",
        "        upper_red2 = np.array([180, 255, 255])  # Высокий диапазон красного (второй диапазон)\n",
        "\n",
        "        # Создаем маски для красного цвета\n",
        "        mask1 = cv2.inRange(hsv, lower_red1, upper_red1)\n",
        "        mask2 = cv2.inRange(hsv, lower_red2, upper_red2)\n",
        "        mask = mask1 | mask2  # Объединяем маски\n",
        "\n",
        "        # Находим контуры на маске\n",
        "        contours, _ = cv2.findContours(mask, cv2.RETR_EXTERNAL, cv2.CHAIN_APPROX_SIMPLE)\n",
        "\n",
        "        if contours:\n",
        "            # Находим внешний контур\n",
        "            largest_contour = max(contours, key=cv2.contourArea)\n",
        "\n",
        "            # Рисуем контур на оригинальном кадре\n",
        "            cv2.drawContours(frame, [largest_contour], -1, (0, 255, 0), 2)  # Рисуем контур зеленым цветом\n",
        "\n",
        "            # Вычисляем моменты для нахождения центра масс\n",
        "            M = cv2.moments(largest_contour)\n",
        "            if M[\"m00\"] != 0:\n",
        "                cX = int(M[\"m10\"] / M[\"m00\"])\n",
        "                cY = int(M[\"m01\"] / M[\"m00\"])\n",
        "                # Рисуем центр масс\n",
        "                cv2.circle(frame, (cX, cY), 5, (255, 0, 0), -1)  # Рисуем центр масс синим цветом\n",
        "\n",
        "                # Отображаем координаты центра масс\n",
        "                cv2.putText(frame, f'Center: ({cX}, {cY})', (10, 30), cv2.FONT_HERSHEY_SIMPLEX, 0.7, (255, 255, 255), 2)\n",
        "            else:\n",
        "                cv2.putText(frame, 'No ball detected', (10, 30), cv2.FONT_HERSHEY_SIMPLEX, 0.7, (255, 255, 255), 2)\n",
        "        else:\n",
        "            cv2.putText(frame, 'No ball detected', (10, 30), cv2.FONT_HERSHEY_SIMPLEX, 0.7, (255, 255, 255), 2)\n",
        "\n",
        "        # Сохраняем кадр с контурами в новый видеофайл (опционально)\n",
        "        out.write(frame)\n",
        "\n",
        "        # Отображаем кадр с контурами\n",
        "        cv2_imshow(frame)\n",
        "\n",
        "        # Пауза для отображения\n",
        "        cv2.waitKey(1)\n",
        "\n",
        "    frame_count += 1  # Увеличиваем счетчик кадров\n",
        "\n",
        "# Освобождаем ресурсы\n",
        "cap.release()\n",
        "out.release()\n",
        "cv2.destroyAllWindows()\n",
        "\n",
        "\n"
      ]
    }
  ]
}