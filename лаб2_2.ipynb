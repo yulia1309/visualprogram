{
  "nbformat": 4,
  "nbformat_minor": 0,
  "metadata": {
    "colab": {
      "provenance": [],
      "authorship_tag": "ABX9TyPqk+Q+4Vu5BdjeFCyOL18G",
      "include_colab_link": true
    },
    "kernelspec": {
      "name": "python3",
      "display_name": "Python 3"
    },
    "language_info": {
      "name": "python"
    }
  },
  "cells": [
    {
      "cell_type": "markdown",
      "metadata": {
        "id": "view-in-github",
        "colab_type": "text"
      },
      "source": [
        "<a href=\"https://colab.research.google.com/github/yulia1309/visualprogram/blob/main/%D0%BB%D0%B0%D0%B12_2.ipynb\" target=\"_parent\"><img src=\"https://colab.research.google.com/assets/colab-badge.svg\" alt=\"Open In Colab\"/></a>"
      ]
    },
    {
      "cell_type": "code",
      "execution_count": 2,
      "metadata": {
        "id": "A6uJM6R0_3Dp"
      },
      "outputs": [],
      "source": [
        "import cv2\n",
        "import numpy as np\n",
        "from google.colab.patches import cv2_imshow\n",
        "\n",
        "# Открываем видеопоток с камеры\n",
        "cap = cv2.VideoCapture(0)\n",
        "\n",
        "# Получаем параметры видео\n",
        "fps = 30  # Устанавливаем фиксированное значение FPS\n",
        "width = int(cap.get(cv2.CAP_PROP_FRAME_WIDTH))\n",
        "height = int(cap.get(cv2.CAP_PROP_FRAME_HEIGHT))\n",
        "\n",
        "# Создаем VideoWriter для сохранения результата (опционально)\n",
        "out = cv2.VideoWriter('output_with_yellow_ball.mp4', cv2.VideoWriter_fourcc(*'mp4v'), fps, (width, height))\n",
        "\n",
        "frame_count = 0  # Счетчик кадров\n",
        "\n",
        "while cap.isOpened():\n",
        "    ret, frame = cap.read()\n",
        "    if not ret:\n",
        "        break\n",
        "\n",
        "    # Обрабатываем каждый третий кадр\n",
        "    if frame_count % 3 == 0:\n",
        "        # Преобразуем кадр в цветовое пространство HSV\n",
        "        hsv = cv2.cvtColor(frame, cv2.COLOR_BGR2HSV)\n",
        "\n",
        "        # Определяем диапазон желтого цвета в HSV\n",
        "        lower_yellow = np.array([20, 100, 100])\n",
        "        upper_yellow = np.array([30, 255, 255])\n",
        "\n",
        "        # Создаем маску для желтого цвета\n",
        "        mask = cv2.inRange(hsv, lower_yellow, upper_yellow)\n",
        "\n",
        "        # Находим контуры на маске\n",
        "        contours, _ = cv2.findContours(mask, cv2.RETR_EXTERNAL, cv2.CHAIN_APPROX_SIMPLE)\n",
        "\n",
        "        if contours:\n",
        "            # Находим внешний контур\n",
        "            largest_contour = max(contours, key=cv2.contourArea)\n",
        "\n",
        "            # Рисуем контур на оригинальном кадре\n",
        "            cv2.drawContours(frame, [largest_contour], -1, (0, 255, 0), 2)  # Рисуем контур зеленым цветом\n",
        "\n",
        "            # Вычисляем моменты для нахождения центра масс\n",
        "            M = cv2.moments(largest_contour)\n",
        "            if M[\"m00\"] != 0:\n",
        "                cX = int(M[\"m10\"] / M[\"m00\"])\n",
        "                cY = int(M[\"m01\"] / M[\"m00\"])\n",
        "                # Рисуем центр масс\n",
        "                cv2.circle(frame, (cX, cY), 5, (255, 0, 0), -1)  # Рисуем центр масс синим цветом\n",
        "\n",
        "                # Отображаем координаты центра масс\n",
        "                cv2.putText(frame, f'Center: ({cX}, {cY})', (10, 30), cv2.FONT_HERSHEY_SIMPLEX, 0.7, (255, 255, 255), 2)\n",
        "            else:\n",
        "                cv2.putText(frame, 'No ball detected', (10, 30), cv2.FONT_HERSHEY_SIMPLEX, 0.7, (255, 255, 255), 2)\n",
        "        else:\n",
        "            cv2.putText(frame, 'No ball detected', (10, 30), cv2.FONT_HERSHEY_SIMPLEX, 0.7, (255, 255, 255), 2)\n",
        "\n",
        "        # Сохраняем кадр с контурами в новый видеофайл (опционально)\n",
        "        out.write(frame)\n",
        "\n",
        "        # Отображаем кадр с контурами\n",
        "        cv2_imshow(frame)\n",
        "\n",
        "        # Пауза для отображения\n",
        "        cv2.waitKey(1)\n",
        "\n",
        "    frame_count += 1  # Увеличиваем счетчик кадров\n",
        "\n",
        "# Освобождаем ресурсы\n",
        "cap.release()\n",
        "out.release()\n",
        "cv2.destroyAllWindows()\n"
      ]
    }
  ]
}